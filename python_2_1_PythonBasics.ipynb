{
 "cells": [
  {
   "cell_type": "code",
   "execution_count": null,
   "metadata": {},
   "outputs": [],
   "source": [
    "#run this cell once\n",
    "%matplotlib notebook"
   ]
  },
  {
   "cell_type": "markdown",
   "metadata": {},
   "source": [
    "# Assignment 5"
   ]
  },
  {
   "cell_type": "markdown",
   "metadata": {},
   "source": [
    "prerequisites : \n",
    "- basic understanding of Jupyter notebooks (https://jupyter.org/)\n",
    "- basic understanding of binder (https://mybinder.org/)\n",
    "- GitHub account (https://github.com/)<br><br>\n",
    "Resources\n",
    "- understanding the 'range' function (https://www.w3schools.com/python/ref_func_range.asp)\n",
    "- understanding the 'while' loop (https://www.w3schools.com/python/python_while_loops.asp) \n",
    "- understanding of the 'if' statement  (https://www.w3schools.com/python/python_conditions.asp)\n",
    "- Following functions and datatypes :<a href=\"https://www.w3schools.com/python/ref_func_print.asp\">print</a>,<a href=\"https://www.w3schools.com/python/ref_func_input.asp\">input</a>,<a href=\"https://www.w3schools.com/python/python_datatypes.asp\">datatypes</a>\n",
    "- A walkthrough of some of the important <a href=\"https://codeinplace2021.github.io/pythonreader/en/variables/\">data types and python operators  </a>\n",
    "- <a href=\"https://www.w3schools.com/python/python_functions.asp\">Functions </a>\n",
    "- The <a href=\"https://www.w3schools.com/python/ref_func_range.asp\">Range</a> function\n"
   ]
  },
  {
   "cell_type": "markdown",
   "metadata": {},
   "source": [
    "# Importing libraries\n",
    "Python has in-built libraries which contain functions which can be reused and makes coding easier e.g. the 'math' library has functions for finding the square root, sine, cosine values ,etc.\n",
    "The libraries need to be 'imported' once before they can be used e.g. import math <br>\n",
    "User defined libraries can be imported as well"
   ]
  },
  {
   "cell_type": "code",
   "execution_count": null,
   "metadata": {},
   "outputs": [],
   "source": [
    "# Here is an example of importing a library\n",
    "import math\n",
    "\n",
    "print(\"Area of circle of radius 5 is pi*r^2= \",math.pi*math.pow(5,2))"
   ]
  },
  {
   "cell_type": "markdown",
   "metadata": {},
   "source": [
    "# Working with input and print statements"
   ]
  },
  {
   "cell_type": "code",
   "execution_count": null,
   "metadata": {},
   "outputs": [],
   "source": [
    "# Here is an example of using input and print statements\n",
    "name = input(\"What is your name? \")\n",
    "print(\"Hello \" + name + \"!\")"
   ]
  },
  {
   "attachments": {
    "image.png": {
     "image/png": "[encoded data removed]"
    }
   },
   "cell_type": "markdown",
   "metadata": {},
   "source": [
    "Write code that takes two numbers and prints out the sum e.g.\n",
    "![image.png](attachment:image.png)"
   ]
  },
  {
   "cell_type": "code",
   "execution_count": null,
   "metadata": {},
   "outputs": [],
   "source": [
    "#start your code from here , you can add code in additional cells if necessary"
   ]
  },
  {
   "cell_type": "markdown",
   "metadata": {},
   "source": [
    "# Operators"
   ]
  },
  {
   "cell_type": "code",
   "execution_count": 1,
   "metadata": {},
   "outputs": [
    {
     "name": "stdout",
     "output_type": "stream",
     "text": [
      "is 3 less than 5: True\n",
      "is 7 less than 5+2: False\n",
      "is 8 greater than 15 - 6: False\n",
      "is 18 equal to 12 +6 : True\n"
     ]
    }
   ],
   "source": [
    "# common operators '<' less than,'<=' less than or equal to, '>' greater than,'>=' greater than or equal to,\n",
    "#'==' comparison,'=' assignment, 'and' logical AND, 'or' logical OR, 'not' logical NOT \n",
    "#https://www.w3schools.com/python/python_operators.asp\n",
    "#e.g.\n",
    "print(\"is 3 less than 5:\",3<5)\n",
    "print(\"is 7 less than 5+2:\",7<(5+2))\n",
    "print(\"is 8 greater than 15 - 6:\",8>(15-6))\n",
    "print(\"is 18 equal to 12 +6 :\",18==(12+6))"
   ]
  },
  {
   "cell_type": "markdown",
   "metadata": {},
   "source": [
    "# Using Constants and Variables and Type conversion"
   ]
  },
  {
   "cell_type": "markdown",
   "metadata": {},
   "source": [
    "Declare constants which are used often and not likely to change e.g. a conversion Factor for converting lbs to kg or time in IST from GMT or inches to cm. Variables are used to store values and can be changed . Data types can be changed by casting e.g. a user input is always a string . To perform calculations on the same , user input can be read into a variable and then cast to either and integer (using int(user_input)) or to a decimal value (using float(user_input)). int or float values can be converted to string (using str(user_input)) for displaying as output"
   ]
  },
  {
   "cell_type": "code",
   "execution_count": 2,
   "metadata": {},
   "outputs": [
    {
     "name": "stdout",
     "output_type": "stream",
     "text": [
      "Please enter value in inches:175\n",
      "The value in cm is : 444.5cm\n"
     ]
    }
   ],
   "source": [
    "# Here is an example \n",
    "INCH_TO_CM=2.54\n",
    "CM_TO_INCH=1/INCH_TO_CM\n",
    "user_input=input(\"Please enter value in inches:\")\n",
    "float_value=float(user_input)\n",
    "converted_value=float_value*INCH_TO_CM\n",
    "print(\"The value in cm is :\", str(converted_value) + \"cm\")\n"
   ]
  },
  {
   "attachments": {
    "image.png": {
     "image/png": "[encoded data removed]"
    }
   },
   "cell_type": "markdown",
   "metadata": {},
   "source": [
    "Write the code to find the Square Root of a number provided by the user  (Hint: use 'import math' to import the math library which has the function math.sqrt() for finding the square root) e.g.\n",
    "![image.png](attachment:image.png)\n"
   ]
  },
  {
   "cell_type": "code",
   "execution_count": null,
   "metadata": {},
   "outputs": [],
   "source": [
    "#start your code from here , you can add code in additional cells if necessary"
   ]
  },
  {
   "attachments": {
    "image.png": {
     "image/png": "[encoded data removed]"
    }
   },
   "cell_type": "markdown",
   "metadata": {},
   "source": [
    "Write the code that asks the user for height in cm as input  ,converts it to feet and inches and prints the output e.g.\n",
    "![image.png](attachment:image.png)"
   ]
  },
  {
   "cell_type": "code",
   "execution_count": null,
   "metadata": {},
   "outputs": [],
   "source": [
    "#start your code from here , you can add code in additional cells if necessary\n"
   ]
  },
  {
   "cell_type": "markdown",
   "metadata": {},
   "source": [
    "# The random function"
   ]
  },
  {
   "cell_type": "code",
   "execution_count": 2,
   "metadata": {},
   "outputs": [
    {
     "name": "stdout",
     "output_type": "stream",
     "text": [
      "This retrieves an integer between -1 and 5: 0\n",
      "This retrieves an integer between -1 and 5 with step 2 ie from the set {-4,-2,0,2,4}: -4\n",
      "This retrieves a float between 0 and 1: 0.21466752601999262\n"
     ]
    }
   ],
   "source": [
    "#the random function is used to retrieve a random number or choose a random value from a list , the library 'random' needs to\n",
    "# be imported in order to use this function (https://docs.python.org/3/library/random.html)\n",
    "\n",
    "import random\n",
    "print(\"This retrieves an integer between -1 and 5:\", random.randint(-4,5))\n",
    "print(\"This retrieves an integer between -1 and 5 with step 2 ie from the set {-4,-2,0,2,4}:\", random.randrange(-4,5,2))\n",
    "print(\"This retrieves a float between 0 and 1:\", random.random())"
   ]
  },
  {
   "attachments": {
    "image.png": {
     "image/png": "[encoded data removed]"
    }
   },
   "cell_type": "markdown",
   "metadata": {},
   "source": [
    " Write code to simulate throwing a pair of dice and print the output\n",
    "![image.png](attachment:image.png)"
   ]
  },
  {
   "cell_type": "code",
   "execution_count": null,
   "metadata": {},
   "outputs": [],
   "source": [
    "#start your code from here , you can add code in additional cells if necessary\n"
   ]
  },
  {
   "attachments": {
    "image.png": {
     "image/png": "[encoded data removed]"
    }
   },
   "cell_type": "markdown",
   "metadata": {},
   "source": [
    "create a maths quiz for testing a user on ability to add two 3 digit numbers e.g.\n",
    "![image.png](attachment:image.png)"
   ]
  },
  {
   "cell_type": "code",
   "execution_count": null,
   "metadata": {},
   "outputs": [],
   "source": [
    "#start your code from here , you can add code in additional cells if necessary"
   ]
  },
  {
   "cell_type": "markdown",
   "metadata": {},
   "source": [
    "For the above problem , modify it such that the user is presented with a new problem till he/she gets 3 correct in a row"
   ]
  },
  {
   "cell_type": "code",
   "execution_count": null,
   "metadata": {},
   "outputs": [],
   "source": [
    "#start your code from here , you can add code in additional cells if necessary"
   ]
  },
  {
   "cell_type": "markdown",
   "metadata": {},
   "source": []
  }
 ],
 "metadata": {
  "kernelspec": {
   "display_name": "Python 3",
   "language": "python",
   "name": "python3"
  },
  "language_info": {
   "codemirror_mode": {
    "name": "ipython",
    "version": 3
   },
   "file_extension": ".py",
   "mimetype": "text/x-python",
   "name": "python",
   "nbconvert_exporter": "python",
   "pygments_lexer": "ipython3",
   "version": "3.6.5"
  }
 },
 "nbformat": 4,
 "nbformat_minor": 2
}
