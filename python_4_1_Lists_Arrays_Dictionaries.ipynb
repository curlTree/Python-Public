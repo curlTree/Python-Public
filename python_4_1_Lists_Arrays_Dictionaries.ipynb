{
 "cells": [
  {
   "cell_type": "code",
   "execution_count": null,
   "metadata": {},
   "outputs": [],
   "source": [
    "#run this cell once\n",
    "%matplotlib notebook"
   ]
  },
  {
   "cell_type": "markdown",
   "metadata": {},
   "source": [
    "# Assignment 6"
   ]
  },
  {
   "cell_type": "markdown",
   "metadata": {},
   "source": [
    "prerequisites : \n",
    "- basic understanding of Jupyter notebooks (https://jupyter.org/)\n",
    "- basic understanding of binder (https://mybinder.org/)\n",
    "- GitHub account (https://github.com/)\n",
    "- understanding the 'range' function (https://www.w3schools.com/python/ref_func_range.asp)\n",
    "- understanding the 'while' loop (https://www.w3schools.com/python/python_while_loops.asp) \n",
    "- understanding of the 'if' statement  (https://www.w3schools.com/python/python_conditions.asp)\n",
    "- Following functions and datatypes :<a href=\"https://www.w3schools.com/python/ref_func_print.asp\">print</a>,<a href=\"https://www.w3schools.com/python/ref_func_input.asp\">input</a>,<a href=\"https://www.w3schools.com/python/python_datatypes.asp\">datatypes</a>\n",
    "- A walkthrough of some of the important <a href=\"https://codeinplace2021.github.io/pythonreader/en/variables/\">data types and python operators  </a>\n",
    "Resources :\n",
    "- A walkthrough of some of the important <a href=\"https://codeinplace2021.github.io/pythonreader/en/variables/\">data types and python operators  </a>\n",
    "- <a href=\"https://www.w3schools.com/python/python_functions.asp\">Functions </a>\n",
    "- The <a href=\"https://www.w3schools.com/python/ref_func_range.asp\">Range function</a> \n",
    "- <a href=\"https://www.w3schools.com/python/python_lists.asp\">Lists</a>,<a href=\"https://www.w3schools.com/python/numpy/numpy_creating_arrays.asp\">Arrays</a>,<a href=\"https://www.w3schools.com/python/python_dictionaries.asp\">Dictionaries</a>"
   ]
  },
  {
   "cell_type": "markdown",
   "metadata": {},
   "source": [
    "# Lists\n",
    "Lists are a set of variables which are stored in an indexed format, the advantage being that each of these variables can be retrieved by referring to the index of their location in the list.Lists support functions like 'append()' which appends an element to the end of the list, 'pop()' which removes an element from the end of the list . Also specific subsets of the list can be retrived by referring to the indices. Note that list index starts from 0 i.e. the first element in the list will have index 0, second element in the list will have index 1 ,etc."
   ]
  },
  {
   "cell_type": "code",
   "execution_count": 59,
   "metadata": {},
   "outputs": [
    {
     "name": "stdout",
     "output_type": "stream",
     "text": [
      "A list can contain different data types,even another list [1, 3, 'Country', 39.6, [1, 3, 4]]\n",
      "the size of the list is  4\n",
      "the second name in the list is  donald\n",
      "mickey\n",
      "donald\n",
      "motu\n",
      "patlu\n",
      "the new size of the list is  5  and the latest element is simba\n",
      "the new size of the list is  4  and the latest element is patlu\n",
      "the first 3 elements of the list are ['mickey', 'donald', 'motu']\n",
      "the last 3 elements of the list are ['donald', 'motu', 'patlu']\n",
      "the second and 3rd elements of the list are ['donald', 'motu']\n",
      "the second and 3rd elements of the list are ['donald', 'motu']\n",
      "values from a string can be retrieved using indices : am\n",
      "['I', 'am', 'a', 'list', 'too']\n"
     ]
    }
   ],
   "source": [
    "# Here are some examples of  list usage\n",
    "my_varied_list=[1,3,'Country',39.6,[1,3,4]]\n",
    "print(\"A list can contain different data types,even another list\",my_varied_list)\n",
    "name_list=['mickey','donald','motu','patlu']\n",
    "print(\"the size of the list is \",len(name_list))\n",
    "print(\"the second name in the list is \",name_list[1])\n",
    "for var_name in name_list:\n",
    "    print(var_name)\n",
    "name_list.append('simba')\n",
    "print(\"the new size of the list is \",len(name_list),\" and the latest element is\", name_list[len(name_list)-1])\n",
    "name_list.pop()\n",
    "print(\"the new size of the list is \",len(name_list),\" and the latest element is\", name_list[len(name_list)-1])\n",
    "print(\"the first 3 elements of the list are\",name_list[:3])\n",
    "print(\"the last 3 elements of the list are\",name_list[-3:])\n",
    "print(\"the second and 3rd elements of the list are\",name_list[1:3]) # note the index goes upto 1 less than the upper limit (3 in this case)\n",
    "print(\"the second and 3rd elements of the list are\",name_list[-3:3]) # same result using reverse logic\n",
    "a_string=\"I_am_a_list_too\"\n",
    "print(\"values from a string can be retrieved using indices :\",a_string[2:4])\n",
    "print(a_string.split(\"_\"))"
   ]
  },
  {
   "attachments": {
    "image.png": {
     "image/png": "[encoded data removed]"
    }
   },
   "cell_type": "markdown",
   "metadata": {},
   "source": [
    "Write code to create a list of even numbers between 0 and a user input number\n",
    "Using this list write code to get the sum of all the numbers in the list\n",
    "Your output should look similar to this\n",
    "![image.png](attachment:image.png)"
   ]
  },
  {
   "cell_type": "code",
   "execution_count": null,
   "metadata": {},
   "outputs": [],
   "source": [
    "#start your code from here , you can add code in additional cells if necessary"
   ]
  },
  {
   "cell_type": "markdown",
   "metadata": {},
   "source": [
    "# Numpy Arrays\n",
    "'Numpy Arrays are similar to lists but are more flexible in when using more than one dimensions e.g. in matrix operations. A list can be converted to an array using the numpy library e.g. numpy.array([1,2,3]). The dimensions of an array can be found using the 'shape' property .Arrays support operations like 'reshape' where the array can be reshaped as per desired format, 'broadcasting' where all the elements of the array can be multiplied by a constant, linear algebra operations like dot product,norm, etc.Arrays also support set operations like union and intersection."
   ]
  },
  {
   "cell_type": "code",
   "execution_count": 41,
   "metadata": {},
   "outputs": [
    {
     "name": "stdout",
     "output_type": "stream",
     "text": [
      "Array is [1 3 5 7] of shape (4,)\n",
      "effect of broadcasting ,array vs list : [ 3  9 15 21] [1, 3, 5, 6, 1, 3, 5, 6, 1, 3, 5, 6]\n",
      "reshaping 1 by 4 array [1 3 5 7]  to 2 by 2 array \n",
      " [[1 3]\n",
      " [5 7]]\n",
      "columns of array are [1 5]  and  [3 7]\n"
     ]
    }
   ],
   "source": [
    "import numpy as np\n",
    "v_array=np.array([1,3,5,7])\n",
    "print(\"Array is\",v_array,\"of shape\",v_array.shape)\n",
    "v_list=[1,3,5,6]\n",
    "print(\"effect of broadcasting ,array vs list :\",v_array*3,v_list*3)\n",
    "v_array_reshape=v_array.reshape(2,2)\n",
    "print(\"reshaping 1 by 4 array\",v_array,\" to 2 by 2 array \\n\" ,v_array_reshape)\n",
    "print(\"columns of reshaped array are\",v_array_reshape[:,0],\" and \" ,v_array_reshape[:,1])"
   ]
  },
  {
   "cell_type": "code",
   "execution_count": null,
   "metadata": {},
   "outputs": [],
   "source": [
    "# Write code to sum up the diagonal elements of the array when arranged as 3X3 matrix\n",
    "v_arr=np.array([[1,-2,3],[6,2,8],[9,4,-7]])\n"
   ]
  },
  {
   "cell_type": "markdown",
   "metadata": {},
   "source": [
    "# Dictionary\n",
    "The Dictionary object is a very useful data type which can hold variables as 'key-value' pairs. The advantage of this feature over lists or arrays is that instead of an integer index, variables can be referenced using their key names almost as if they were separate variables. However , the dictionary additionally allows iterating over all the items (variables) contained in it.Items can be retrieved using their key names. Items can be added using a key-value pair and deleted using the key name.Dictionaries can be added to lists and arrays"
   ]
  },
  {
   "cell_type": "code",
   "execution_count": 56,
   "metadata": {},
   "outputs": [
    {
     "name": "stdout",
     "output_type": "stream",
     "text": [
      "The items in the dictionary are dict_items([('Model', 'Alto'), ('Manufacturer', 'Maruti'), ('Units', 10)]) \n",
      " The keys are  dict_keys(['Model', 'Manufacturer', 'Units'])\n",
      "key is Model  value is  Alto\n",
      "key is Manufacturer  value is  Maruti\n",
      "key is Units  value is  10\n",
      " A specific value can be retrieved using the key e.g. Model: Alto\n",
      "dictionary after appending mileage is {'Model': 'Alto', 'Manufacturer': 'Maruti', 'Units': 10, 'mileage': '23 kmpl'}\n",
      "dictionary after deleting Units is {'Model': 'Alto', 'Manufacturer': 'Maruti', 'mileage': '23 kmpl'}\n",
      "A list of dictionary objects [{'Model': 'Alto', 'Manufacturer': 'Maruti', 'mileage': '23 kmpl'}, {'Model': 'punto', 'Manufacturer': 'Fiat'}]\n"
     ]
    }
   ],
   "source": [
    "#Here are a few examples of dictionary usage.Note the use of {} instead of []\n",
    "v_dict={\"Model\":\"Alto\",\"Manufacturer\":\"Maruti\",\"Units\":10}\n",
    "print(\"The items in the dictionary are\",v_dict.items(),\"\\n The keys are \", v_dict.keys())\n",
    "for key,val in v_dict.items():\n",
    "    print(\"key is\",key,\" value is \",val)\n",
    "print(\" A specific value can be retrieved using the key e.g. Model:\",v_dict['Model'] )\n",
    "v_dict[\"mileage\"]=\"23 kmpl\"\n",
    "print(\"dictionary after appending mileage is\",v_dict)\n",
    "del(v_dict['Units'])\n",
    "print(\"dictionary after deleting Units is\",v_dict)\n",
    "list_of_cars=[v_dict,{\"Model\":\"punto\",\"Manufacturer\":\"Fiat\"}]\n",
    "print(\"A list of dictionary objects\",list_of_cars)"
   ]
  },
  {
   "cell_type": "code",
   "execution_count": 2,
   "metadata": {},
   "outputs": [],
   "source": [
    "# Write code which asks user for a list of likes and dislikes in terms of food and then at the end displays a list of likes and dislikes\n",
    "food_choice={\"Ice cream\":0,\"Pizza\":1,\"Mashed Potatoes\":0,\"Boiled Beans\":0,\"Spicy Noodles\":1,\"Baigan Bhartha\":0,\"Karela Manchurian\":1 } \n",
    "# Hint user can type 0 for dislike and 1 for like\n",
    "#output should look something like\n",
    "print(\"Your favourite food items are\")\n",
    "print(\"Your not so favourite food items are\")"
   ]
  },
  {
   "cell_type": "code",
   "execution_count": null,
   "metadata": {},
   "outputs": [],
   "source": [
    "#start your code from here , you can add code in additional cells if necessary"
   ]
  }
 ],
 "metadata": {
  "kernelspec": {
   "display_name": "Python 3",
   "language": "python",
   "name": "python3"
  },
  "language_info": {
   "codemirror_mode": {
    "name": "ipython",
    "version": 3
   },
   "file_extension": ".py",
   "mimetype": "text/x-python",
   "name": "python",
   "nbconvert_exporter": "python",
   "pygments_lexer": "ipython3",
   "version": "3.6.5"
  }
 },
 "nbformat": 4,
 "nbformat_minor": 2
}
