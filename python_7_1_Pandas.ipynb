{
 "cells": [
  {
   "cell_type": "code",
   "execution_count": 1,
   "metadata": {},
   "outputs": [],
   "source": [
    "#run this cell once\n",
    "%matplotlib notebook"
   ]
  },
  {
   "cell_type": "markdown",
   "metadata": {},
   "source": [
    "# Part I"
   ]
  },
  {
   "cell_type": "markdown",
   "metadata": {},
   "source": [
    "# Assignment 9"
   ]
  },
  {
   "cell_type": "markdown",
   "metadata": {},
   "source": [
    "prerequisites : \n",
    "- basic understanding of Jupyter notebooks (https://jupyter.org/)\n",
    "- basic understanding of binder (https://mybinder.org/)\n",
    "- GitHub account (https://github.com/)\n",
    "- understanding the 'range' function (https://www.w3schools.com/python/ref_func_range.asp)\n",
    "- understanding the 'while' loop (https://www.w3schools.com/python/python_while_loops.asp) \n",
    "- understanding of the 'if' statement  (https://www.w3schools.com/python/python_conditions.asp)\n",
    "- Following functions and datatypes :<a href=\"https://www.w3schools.com/python/ref_func_print.asp\">print</a>,<a href=\"https://www.w3schools.com/python/ref_func_input.asp\">input</a>,<a href=\"https://www.w3schools.com/python/python_datatypes.asp\">datatypes</a>\n",
    "- A walkthrough of some of the important <a href=\"https://codeinplace2021.github.io/pythonreader/en/variables/\">data types and python operators  </a><br><br>\n",
    "Resources :\n",
    "- A walkthrough of some of the important <a href=\"https://codeinplace2021.github.io/pythonreader/en/variables/\">data types and python operators  </a>\n",
    "- <a href=\"https://www.w3schools.com/python/python_functions.asp\">Functions </a>\n",
    "- The <a href=\"https://www.w3schools.com/python/ref_func_range.asp\">Range function</a> \n",
    "- <a href=\"https://www.w3schools.com/python/python_lists.asp\">Lists</a>,<a href=\"https://www.w3schools.com/python/numpy/numpy_creating_arrays.asp\">Arrays</a>,<a href=\"https://www.w3schools.com/python/python_dictionaries.asp\">Dictionaries</a>\n",
    "- <a href=\"https://www.w3schools.com/python/python_file_handling.asp\">Python File Operations</a>\n",
    "- <a href=\"https://pandas.pydata.org/docs/reference/index.html\">Pandas</a>\n",
    "- Pandas in data science (https://jakevdp.github.io/PythonDataScienceHandbook/03.08-aggregation-and-grouping.html)\n",
    "- https://www.shanelynn.ie/summarising-aggregation-and-grouping-data-in-python-pandas/\n",
    "- https://stackoverflow.com/questions/13996302/python-rolling-functions-for-groupby-object\n"
   ]
  },
  {
   "cell_type": "markdown",
   "metadata": {},
   "source": [
    "# Pandas\n",
    "Pandas is a fast, powerful, flexible and easy to use open source data analysis and manipulation tool,\n",
    "built on top of the Python programming language\n"
   ]
  },
  {
   "cell_type": "code",
   "execution_count": 190,
   "metadata": {},
   "outputs": [
    {
     "name": "stdout",
     "output_type": "stream",
     "text": [
      "Total Row Count 154566\n"
     ]
    }
   ],
   "source": [
    "# Here are some examples of  pandas file operations.Copy each statement into a separate cell and run individually to understand the functionality\n",
    "#https://github.com/CSSEGISandData/COVID-19/blob/master/csse_covid_19_data/csse_covid_19_time_series/time_series_covid19_confirmed_global.csv\n",
    "import pandas as pd\n",
    "data=pd.read_csv('covid.csv')\n",
    "pd_f1=pd.DataFrame(data)\n",
    "pd_f1\n",
    "# transpose date fields \n",
    "pd_main=pd.melt(pd_f1, id_vars=['Province/State','Country/Region','Lat','Long'])\n",
    "# rename some of the columns\n",
    "pd_main=pd_main.rename(columns={'variable':'Rep_Date','value':'Counts','Province/State':'State','Country/Region':'Country'})\n",
    "print(\"Total Row Count\", len(pd_main))\n",
    "#add a column https://www.geeksforgeeks.org/adding-new-column-to-existing-dataframe-in-pandas/\n",
    "pd_main['marginal']=0\n",
    "#string operations https://www.geeksforgeeks.org/python-pandas-split-strings-into-two-list-columns-using-str-split/\n",
    "rep_data_split=pd_main['Rep_Date'].str.split(\"/\",n = 2, expand = True)\n",
    "pd_main['Rep_Month']=rep_data_split[0]\n",
    "pd_main['Rep_Day']=rep_data_split[1]\n",
    "pd_main['Rep_Year']=rep_data_split[2]\n",
    "pd_main['str_Rep_Year_Month']=rep_data_split[2]+'_'+rep_data_split[0]\n",
    "#casting columns to int\n",
    "pd_main=pd_main.astype({'Rep_Year': 'int64','Rep_Month':'int64','Rep_Day':'int64'})\n",
    "pd_main.iloc[:,0:6] # select rows and columns to display \n",
    "#using a filter on a column\n",
    "pd_main[pd_main['Country'].isin(['Angola','India'])]\n",
    "#using a filter across columns\n",
    "#https://datascienceparichay.com/article/pandas-filter-dataframe-for-multiple-conditions/\n",
    "pd_main[(pd_main['Country'].isin(['Angola','India'])) & (pd_main['Rep_Date'].isin(['1/24/20']))]\n",
    "# The above can be stored as an index and then retrieved\n",
    "#l_indx=pd_main[(pd_main['Country'].isin(['Angola','India'])) & (pd_main['Rep_Date'].isin(['1/24/20']))].index\n",
    "l_indx=pd_main[(pd_main['Country'].isin(['Angola','India'])) & (pd_main['Rep_Date'] >'1/24/21')].index\n",
    "pd_main.iloc[l_indx]\n",
    "#update columns \n",
    "v_filter=l_indx=pd_main[(pd_main['Country'].isin(['Angola'])) & (pd_main['Rep_Date'].isin(['1/24/20']))].index\n",
    "pd_main.loc[v_filter, 'Counts']=-1\n",
    "pd_main.loc[v_filter]\n",
    "#using the 'where' clause, update a column based on where clause\n",
    "pd_main['myCol']=pd_main.where(pd_main['Country']=='Angola', 'Other')['Country']\n",
    "pd_main.loc[pd_main['Country'].isin(['Angola','India'])][:2] #just two rows for the above condition\n",
    "# Aggregations \n",
    "# Sort the data by Country ,Rep_Year and Rep_Month\n",
    "pd_main=pd_main.sort_values(by=['Country','Rep_Year','Rep_Month','Rep_Day'])\n",
    "# First add a column (call it 'marginal) to the data to show daily changes\n",
    "mcol=pd_main.groupby('Country')['Counts'].diff()\n",
    "pd_main['changes']=mcol\n",
    "dataAgg=pd_main[['Country','str_Rep_Year_Month','Rep_Year','Rep_Month','changes']].groupby(['Country','str_Rep_Year_Month'],as_index=False).agg({'changes':'sum'})\n",
    "# merging Data\n",
    "ndata=pd.merge(pd_main,dataAgg,how='outer',on=['Country','str_Rep_Year_Month'],suffixes=('_m','_n'),indicator=True)\n",
    "# # sort the data\n",
    "ndata=ndata.sort_values(by=['Country','Rep_Year','Rep_Month'])\n",
    "# #https://stackoverflow.com/questions/16476924/how-to-iterate-over-rows-in-a-dataframe-in-pandas\n",
    "# #remove unwanted fields and rename some fields\n",
    "ndata=ndata.drop(['_merge'],axis=1)\n",
    "ndata=ndata.rename(columns={'changes_m':'changes','changes_n':'cum_monthly_changes'})\n",
    "# create columns for sorting Rep_Year and Rep_Month\n",
    "s=dataAgg['str_Rep_Year_Month'].str.split('_',n=2,expand=True)\n",
    "dataAgg['Rep_Year']=s[0]\n",
    "dataAgg['Rep_Month']=s[1]\n",
    "dataAgg=dataAgg.astype({'Rep_Year':'int64','Rep_Month':'int64'})\n",
    "dataAgg.dtypes\n",
    "dataAgg=dataAgg.sort_values(by=['Country','Rep_Year','Rep_Month'])"
   ]
  },
  {
   "cell_type": "code",
   "execution_count": 194,
   "metadata": {},
   "outputs": [],
   "source": [
    "# dataAgg.groupby(['Country'])['Country'].agg({'c':'first'})# groups by Country and then returns the first record for each country"
   ]
  },
  {
   "cell_type": "code",
   "execution_count": 6,
   "metadata": {},
   "outputs": [],
   "source": [
    "# using the dataset dataAgg above find the top 5 countries along with their cumulative counts as of the latest date of reporting\n"
   ]
  },
  {
   "cell_type": "code",
   "execution_count": null,
   "metadata": {},
   "outputs": [],
   "source": [
    "#start your code from here , you can add code in additional cells if necessary"
   ]
  },
  {
   "cell_type": "code",
   "execution_count": null,
   "metadata": {},
   "outputs": [],
   "source": [
    "#Divide the countries into 2 groups, one with those countries which peaked in 2020 and the other with countries that peaked in 2021"
   ]
  },
  {
   "cell_type": "code",
   "execution_count": null,
   "metadata": {},
   "outputs": [],
   "source": [
    "#start your code from here , you can add code in additional cells if necessary"
   ]
  }
 ],
 "metadata": {
  "kernelspec": {
   "display_name": "Python 3",
   "language": "python",
   "name": "python3"
  },
  "language_info": {
   "codemirror_mode": {
    "name": "ipython",
    "version": 3
   },
   "file_extension": ".py",
   "mimetype": "text/x-python",
   "name": "python",
   "nbconvert_exporter": "python",
   "pygments_lexer": "ipython3",
   "version": "3.6.5"
  }
 },
 "nbformat": 4,
 "nbformat_minor": 2
}
