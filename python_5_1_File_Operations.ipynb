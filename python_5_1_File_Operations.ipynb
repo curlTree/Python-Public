{
 "cells": [
  {
   "cell_type": "code",
   "execution_count": null,
   "metadata": {},
   "outputs": [],
   "source": [
    "#run this cell once\n",
    "%matplotlib notebook"
   ]
  },
  {
   "cell_type": "markdown",
   "metadata": {},
   "source": [
    "# Assignment 7"
   ]
  },
  {
   "cell_type": "markdown",
   "metadata": {},
   "source": [
    "prerequisites : \n",
    "- basic understanding of Jupyter notebooks (https://jupyter.org/)\n",
    "- basic understanding of binder (https://mybinder.org/)\n",
    "- GitHub account (https://github.com/)\n",
    "- understanding the 'range' function (https://www.w3schools.com/python/ref_func_range.asp)\n",
    "- understanding the 'while' loop (https://www.w3schools.com/python/python_while_loops.asp) \n",
    "- understanding of the 'if' statement  (https://www.w3schools.com/python/python_conditions.asp)\n",
    "- Following functions and datatypes :<a href=\"https://www.w3schools.com/python/ref_func_print.asp\">print</a>,<a href=\"https://www.w3schools.com/python/ref_func_input.asp\">input</a>,<a href=\"https://www.w3schools.com/python/python_datatypes.asp\">datatypes</a>\n",
    "- A walkthrough of some of the important <a href=\"https://codeinplace2021.github.io/pythonreader/en/variables/\">data types and python operators  </a>\n",
    "Resources :\n",
    "- A walkthrough of some of the important <a href=\"https://codeinplace2021.github.io/pythonreader/en/variables/\">data types and python operators  </a>\n",
    "- <a href=\"https://www.w3schools.com/python/python_functions.asp\">Functions </a>\n",
    "- The <a href=\"https://www.w3schools.com/python/ref_func_range.asp\">Range function</a> \n",
    "- <a href=\"https://www.w3schools.com/python/python_lists.asp\">Lists</a>,<a href=\"https://www.w3schools.com/python/numpy/numpy_creating_arrays.asp\">Arrays</a>,<a href=\"https://www.w3schools.com/python/python_dictionaries.asp\">Dictionaries</a>\n",
    "- <a href=\"https://www.w3schools.com/python/python_file_handling.asp\">Python File Operations</a>"
   ]
  },
  {
   "cell_type": "markdown",
   "metadata": {},
   "source": [
    "# File Handling\n",
    "There are a few standard functions for reading and writing into text files . The 'open' function opens a text file using a file Handle. The readlines() method of the fileHandle can be used to go through each line of the text.Alternatively the file handle can be used directly . The strip() method strips the paragraph of line feed and carriage return characters. The split() method further splits the lines into words based on the delimiter specified, the default being the backspace character.\n",
    "\n"
   ]
  },
  {
   "cell_type": "code",
   "execution_count": 27,
   "metadata": {},
   "outputs": [
    {
     "name": "stdout",
     "output_type": "stream",
     "text": [
      "[Line 0] Both the lander and the 23-pound (10.6 kilogram) rover carried instruments for scientific observations and to provide engineering data on the new technologies being demonstrated.\n",
      "[Line 1] Included were scientific instruments to analyze the Martian atmosphere, climate, geology and the composition of its rocks and soil.\n",
      "[Line 2] Mars Pathfinder used an innovative method of directly entering the Martian atmosphere, assisted by a parachute to slow its descent through the thin Martian atmosphere and a giant system of airbags to cushion the impact.\n"
     ]
    },
    {
     "data": {
      "text/plain": [
       "0"
      ]
     },
     "execution_count": 27,
     "metadata": {},
     "output_type": "execute_result"
    }
   ],
   "source": [
    "# Here are some examples of  file operations on a sample text file having 3 paragraphs\n",
    "fh=open('read_file.txt','r')\n",
    "ctr=0\n",
    "for line in fh:\n",
    "    print(\"[Line\",str(ctr)+\"]\",line.strip())\n",
    "    ctr+=1\n",
    "  \n"
   ]
  },
  {
   "cell_type": "code",
   "execution_count": 28,
   "metadata": {},
   "outputs": [
    {
     "name": "stdout",
     "output_type": "stream",
     "text": [
      "[Line 3] ['Both', 'the', 'lander', 'and', 'the', '23-pound', '(10.6', 'kilogram)', 'rover', 'carried', 'instruments', 'for', 'scientific', 'observations', 'and', 'to', 'provide', 'engineering', 'data', 'on', 'the', 'new', 'technologies', 'being', 'demonstrated.']\n",
      "[Line 4] ['Included', 'were', 'scientific', 'instruments', 'to', 'analyze', 'the', 'Martian', 'atmosphere,', 'climate,', 'geology', 'and', 'the', 'composition', 'of', 'its', 'rocks', 'and', 'soil.']\n",
      "[Line 5] ['Mars', 'Pathfinder', 'used', 'an', 'innovative', 'method', 'of', 'directly', 'entering', 'the', 'Martian', 'atmosphere,', 'assisted', 'by', 'a', 'parachute', 'to', 'slow', 'its', 'descent', 'through', 'the', 'thin', 'Martian', 'atmosphere', 'and', 'a', 'giant', 'system', 'of', 'airbags', 'to', 'cushion', 'the', 'impact.']\n"
     ]
    }
   ],
   "source": [
    "fh.seek(0) # this makes the file handle go back to the start of the file\n",
    "# here the lines are further being split into words.\n",
    "for line in fh:\n",
    "    print(\"[Line\",str(ctr)+\"]\",line.strip().split())\n",
    "    ctr+=1\n",
    "fh.close()"
   ]
  },
  {
   "cell_type": "code",
   "execution_count": null,
   "metadata": {},
   "outputs": [],
   "source": [
    "# Write code to create a dictionary object that shows each word(as the key) and the number of occurences of it(as the value) \n",
    "# for all the words used in the above mentioned file"
   ]
  },
  {
   "cell_type": "code",
   "execution_count": null,
   "metadata": {},
   "outputs": [],
   "source": [
    "#start your code from here , you can add code in additional cells if necessary"
   ]
  }
 ],
 "metadata": {
  "kernelspec": {
   "display_name": "Python 3",
   "language": "python",
   "name": "python3"
  },
  "language_info": {
   "codemirror_mode": {
    "name": "ipython",
    "version": 3
   },
   "file_extension": ".py",
   "mimetype": "text/x-python",
   "name": "python",
   "nbconvert_exporter": "python",
   "pygments_lexer": "ipython3",
   "version": "3.6.5"
  }
 },
 "nbformat": 4,
 "nbformat_minor": 2
}
